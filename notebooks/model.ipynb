{
 "cells": [
  {
   "cell_type": "code",
   "execution_count": 1,
   "id": "2e56b304",
   "metadata": {},
   "outputs": [
    {
     "name": "stdout",
     "output_type": "stream",
     "text": [
      "✅ Libraries imported successfully\n"
     ]
    }
   ],
   "source": [
    "import os\n",
    "import sys\n",
    "sys.path.insert(0, os.path.abspath('../src'))\n",
    "\n",
    "import pandas as pd\n",
    "import numpy as np\n",
    "import matplotlib.pyplot as plt\n",
    "import seaborn as sns\n",
    "from sklearn.model_selection import train_test_split\n",
    "from sklearn.metrics import mean_squared_error, r2_score, mean_absolute_error\n",
    "from sklearn.ensemble import RandomForestRegressor\n",
    "import warnings\n",
    "warnings.filterwarnings('ignore')\n",
    "\n",
    "# Set up plotting style\n",
    "plt.style.use('seaborn-v0_8-darkgrid')\n",
    "sns.set_palette(\"husl\")\n",
    "\n",
    "print(\"✅ Libraries imported successfully\")"
   ]
  },
  {
   "cell_type": "markdown",
   "id": "ef06f0a2",
   "metadata": {},
   "source": [
    "# Real Estate ML Pipeline - Model Training & Analysis\n",
    "\n",
    "This notebook trains a machine learning model to predict rental prices for properties in Mumbai. We'll explore the data, engineer features, train a LightGBM model, and analyze feature importance."
   ]
  },
  {
   "cell_type": "code",
   "execution_count": 2,
   "id": "13a3919b",
   "metadata": {},
   "outputs": [
    {
     "name": "stdout",
     "output_type": "stream",
     "text": [
      "✅ Data loaded successfully: 4000 rows × 20 columns\n",
      "\n",
      "📊 Dataset Overview:\n",
      "                                     id  \\\n",
      "0  50f0e0fb-cdd5-4cff-bbad-d4455025005f   \n",
      "1  1cf5d007-7902-4fed-b754-7fc05d68afa9   \n",
      "2  3248c771-272c-4a0e-b4c7-4d04e0cc5a0b   \n",
      "3  403f3e2a-236b-40b0-87b7-068a577d4081   \n",
      "4  39134ffa-1cce-4c73-8bdc-2f79e102135f   \n",
      "\n",
      "                                      title    city  locality  area_sqft  bhk  \\\n",
      "0  3 BHK Flat in Mumbai - Area 2143.5 sq.ft  Mumbai     Malad     2143.5    3   \n",
      "1  3 BHK Flat in Mumbai - Area 1221.2 sq.ft  Mumbai  Goregaon     1221.2    3   \n",
      "2  3 BHK Flat in Mumbai - Area 2114.2 sq.ft  Mumbai     Malad     2114.2    3   \n",
      "3  2 BHK Flat in Mumbai - Area 2324.9 sq.ft  Mumbai     Mahim     2324.9    2   \n",
      "4   3 BHK Flat in Mumbai - Area 732.2 sq.ft  Mumbai     Powai      732.2    3   \n",
      "\n",
      "   floor  total_floors       furnished                       amenities  \\\n",
      "0     22            20       Furnished                             NaN   \n",
      "1     13            20     Unfurnished  Garden|Parking|PowerBackup|Gym   \n",
      "2     22            10  Semi-Furnished                             NaN   \n",
      "3      3            10       Furnished                             NaN   \n",
      "4     11             5     Unfurnished                             NaN   \n",
      "\n",
      "   amenity_count   latitude  longitude  rent_per_month  maintenance  deposit  \\\n",
      "0              0  18.830490  72.907556        18798.05         2805    93990   \n",
      "1              4  18.989573  72.908858         8150.24         6584    24451   \n",
      "2              0  18.907786  72.984937        16976.11          789    67904   \n",
      "3              0  18.973158  72.895467        12709.98         5338    63550   \n",
      "4              0  18.810790  72.803069         3128.05         5296    15640   \n",
      "\n",
      "    listed_on  price_per_sqft  is_ground_floor  floor_ratio  \n",
      "0  2025-03-15        8.769792            False         1.10  \n",
      "1  2025-03-31        6.673960            False         0.65  \n",
      "2  2025-03-22        8.029567            False         2.20  \n",
      "3  2025-04-22        5.466893            False         0.30  \n",
      "4  2025-10-17        4.272125            False         2.20  \n",
      "\n",
      "Data Types:\n",
      "id                  object\n",
      "title               object\n",
      "city                object\n",
      "locality            object\n",
      "area_sqft          float64\n",
      "bhk                  int64\n",
      "floor                int64\n",
      "total_floors         int64\n",
      "furnished           object\n",
      "amenities           object\n",
      "amenity_count        int64\n",
      "latitude           float64\n",
      "longitude          float64\n",
      "rent_per_month     float64\n",
      "maintenance          int64\n",
      "deposit              int64\n",
      "listed_on           object\n",
      "price_per_sqft     float64\n",
      "is_ground_floor       bool\n",
      "floor_ratio        float64\n",
      "dtype: object\n",
      "\n",
      "Missing Values:\n",
      "id                   0\n",
      "title                0\n",
      "city                 0\n",
      "locality             0\n",
      "area_sqft            0\n",
      "bhk                  0\n",
      "floor                0\n",
      "total_floors         0\n",
      "furnished            0\n",
      "amenities          829\n",
      "amenity_count        0\n",
      "latitude             0\n",
      "longitude            0\n",
      "rent_per_month       0\n",
      "maintenance          0\n",
      "deposit              0\n",
      "listed_on            0\n",
      "price_per_sqft       0\n",
      "is_ground_floor      0\n",
      "floor_ratio          0\n",
      "dtype: int64\n"
     ]
    }
   ],
   "source": [
    "# Step 1: Load the processed data\n",
    "data_path = '../data/processed/scraped_data.csv'\n",
    "\n",
    "if os.path.exists(data_path):\n",
    "    df = pd.read_csv(data_path)\n",
    "    print(f\"✅ Data loaded successfully: {df.shape[0]} rows × {df.shape[1]} columns\")\n",
    "else:\n",
    "    print(f\"❌ Data file not found at {data_path}\")\n",
    "    print(\"Please run: python ../src/generate_synthetic_data.py && python ../src/data_cleaner.py\")\n",
    "\n",
    "# Display basic info\n",
    "print(\"\\n📊 Dataset Overview:\")\n",
    "print(df.head())\n",
    "print(f\"\\nData Types:\\n{df.dtypes}\")\n",
    "print(f\"\\nMissing Values:\\n{df.isnull().sum()}\")"
   ]
  },
  {
   "cell_type": "markdown",
   "id": "8f89a343",
   "metadata": {},
   "source": [
    "## Exploratory Data Analysis (EDA)"
   ]
  },
  {
   "cell_type": "code",
   "execution_count": 4,
   "id": "f4c9d609",
   "metadata": {},
   "outputs": [
    {
     "name": "stdout",
     "output_type": "stream",
     "text": [
      "📈 Statistical Summary:\n",
      "         area_sqft          bhk        floor  total_floors  amenity_count  \\\n",
      "count  4000.000000  4000.000000  4000.000000   4000.000000    4000.000000   \n",
      "mean   1375.481000     2.150250    15.673500     11.200250       1.953750   \n",
      "std     641.821274     1.052593     8.634091      6.491085       1.406451   \n",
      "min     250.200000     1.000000     1.000000      4.000000       0.000000   \n",
      "25%     826.850000     1.000000     8.000000      6.000000       1.000000   \n",
      "50%    1367.650000     2.000000    16.000000     10.000000       2.000000   \n",
      "75%    1929.050000     3.000000    23.000000     15.000000       3.000000   \n",
      "max    2500.000000     4.000000    30.000000     25.000000       4.000000   \n",
      "\n",
      "          latitude    longitude  rent_per_month  maintenance        deposit  \\\n",
      "count  4000.000000  4000.000000     4000.000000  4000.000000    4000.000000   \n",
      "mean     18.997115    72.800386     9045.610750  4033.752500   31764.239250   \n",
      "std       0.115335     0.114966     4739.325369  1509.892537   20016.398805   \n",
      "min      18.800080    72.600009     1136.600000     0.000000    2561.000000   \n",
      "25%      18.896330    72.702827     5177.805000  3018.750000   16280.500000   \n",
      "50%      18.996018    72.801012     8650.475000  4023.500000   27571.000000   \n",
      "75%      19.094414    72.898590    12265.692500  5087.250000   43607.750000   \n",
      "max      19.199910    72.999978    22161.640000  9205.000000  105750.000000   \n",
      "\n",
      "       price_per_sqft  floor_ratio  \n",
      "count     4000.000000  4000.000000  \n",
      "mean         6.568488     1.908780  \n",
      "std          1.393579     1.567030  \n",
      "min          4.200064     0.040000  \n",
      "25%          5.358263     0.733333  \n",
      "50%          6.557219     1.466667  \n",
      "75%          7.769259     2.666667  \n",
      "max          8.999453     7.500000  \n"
     ]
    },
    {
     "data": {
      "image/png": "[encoded data removed]",
      "text/plain": [
       "<Figure size 1400x400 with 2 Axes>"
      ]
     },
     "metadata": {},
     "output_type": "display_data"
    },
    {
     "name": "stdout",
     "output_type": "stream",
     "text": [
      "\n",
      "💰 Rent Statistics:\n",
      "  Min: ₹1,137\n",
      "  Max: ₹22,162\n",
      "  Mean: ₹9,046\n",
      "  Median: ₹8,650\n"
     ]
    }
   ],
   "source": [
    "# Statistical summary\n",
    "print(\"📈 Statistical Summary:\")\n",
    "print(df.describe())\n",
    "\n",
    "# Visualize target variable distribution\n",
    "fig, axes = plt.subplots(1, 2, figsize=(14, 4))\n",
    "\n",
    "# Rent distribution\n",
    "axes[0].hist(df['rent_per_month'], bins=50, color='skyblue', edgecolor='black')\n",
    "axes[0].set_xlabel('Rent per Month (₹)', fontsize=11)\n",
    "axes[0].set_ylabel('Frequency', fontsize=11)\n",
    "axes[0].set_title('Distribution of Rental Prices', fontsize=12, fontweight='bold')\n",
    "axes[0].grid(alpha=0.3)\n",
    "\n",
    "# Log-transformed rent\n",
    "axes[1].hist(np.log1p(df['rent_per_month']), bins=50, color='lightcoral', edgecolor='black')\n",
    "axes[1].set_xlabel('Log(Rent per Month)', fontsize=11)\n",
    "axes[1].set_ylabel('Frequency', fontsize=11)\n",
    "axes[1].set_title('Log-Transformed Rental Prices', fontsize=12, fontweight='bold')\n",
    "axes[1].grid(alpha=0.3)\n",
    "\n",
    "plt.tight_layout()\n",
    "plt.savefig('../results/01_target_distribution.png', dpi=100, bbox_inches='tight')\n",
    "plt.show()\n",
    "\n",
    "print(f\"\\n💰 Rent Statistics:\\n  Min: ₹{df['rent_per_month'].min():,.0f}\\n  Max: ₹{df['rent_per_month'].max():,.0f}\\n  Mean: ₹{df['rent_per_month'].mean():,.0f}\\n  Median: ₹{df['rent_per_month'].median():,.0f}\")"
   ]
  },
  {
   "cell_type": "code",
   "execution_count": 5,
   "id": "07541b1b",
   "metadata": {},
   "outputs": [
    {
     "data": {
      "image/png": "[encoded data removed]",
      "text/plain": [
       "<Figure size 1000x600 with 1 Axes>"
      ]
     },
     "metadata": {},
     "output_type": "display_data"
    },
    {
     "name": "stdout",
     "output_type": "stream",
     "text": [
      "🔗 Feature Correlations with Rent:\n",
      "\n",
      "area_sqft         0.895401\n",
      "deposit           0.830784\n",
      "price_per_sqft    0.414327\n",
      "total_floors      0.014065\n",
      "longitude         0.013573\n",
      "floor_ratio       0.011148\n",
      "latitude          0.007877\n",
      "floor             0.007505\n",
      "bhk              -0.004476\n",
      "maintenance      -0.009912\n",
      "Name: rent_per_month, dtype: float64\n"
     ]
    }
   ],
   "source": [
    "# Feature correlation analysis\n",
    "numeric_cols = df.select_dtypes(include=[np.number]).columns\n",
    "correlation_matrix = df[numeric_cols].corr()\n",
    "\n",
    "# Plot top correlations with target\n",
    "fig, ax = plt.subplots(figsize=(10, 6))\n",
    "top_corr = correlation_matrix['rent_per_month'].sort_values(ascending=False)[1:11]\n",
    "top_corr.plot(kind='barh', color='teal', ax=ax, edgecolor='black')\n",
    "ax.set_xlabel('Correlation with Rent', fontsize=11)\n",
    "ax.set_title('Top 10 Features Correlated with Rental Price', fontsize=12, fontweight='bold')\n",
    "ax.grid(alpha=0.3, axis='x')\n",
    "plt.tight_layout()\n",
    "plt.savefig('../results/02_feature_correlation.png', dpi=100, bbox_inches='tight')\n",
    "plt.show()\n",
    "\n",
    "print(\"🔗 Feature Correlations with Rent:\\n\")\n",
    "print(top_corr)"
   ]
  },
  {
   "cell_type": "markdown",
   "id": "6f17ef32",
   "metadata": {},
   "source": [
    "## Feature Engineering & Model Preparation"
   ]
  },
  {
   "cell_type": "code",
   "execution_count": 6,
   "id": "91deea0b",
   "metadata": {},
   "outputs": [
    {
     "name": "stdout",
     "output_type": "stream",
     "text": [
      "📊 Features shape: (4000, 11)\n",
      "🎯 Target shape: (4000,)\n",
      "\n",
      "✨ Selected Features (11):\n",
      "   1. area_sqft\n",
      "   2. bhk\n",
      "   3. floor\n",
      "   4. total_floors\n",
      "   5. furnished\n",
      "   6. amenity_count\n",
      "   7. maintenance\n",
      "   8. deposit\n",
      "   9. price_per_sqft\n",
      "  10. is_ground_floor\n",
      "  11. floor_ratio\n",
      "\n",
      "✅ Missing values handled. Ready for modeling!\n"
     ]
    }
   ],
   "source": [
    "# Prepare features and target\n",
    "df_model = df.copy()\n",
    "\n",
    "# Drop non-predictive columns\n",
    "drop_cols = ['id', 'title', 'city', 'locality', 'amenities', 'listed_on', 'latitude', 'longitude', 'furnished']\n",
    "df_model = df_model.drop(columns=drop_cols, errors='ignore')\n",
    "\n",
    "# Separate features and target\n",
    "X = df_model.drop(columns=['rent_per_month'])\n",
    "y = df_model['rent_per_month']\n",
    "\n",
    "print(f\"📊 Features shape: {X.shape}\")\n",
    "print(f\"🎯 Target shape: {y.shape}\")\n",
    "print(f\"\\n✨ Selected Features ({X.shape[1]}):\")\n",
    "for i, col in enumerate(X.columns, 1):\n",
    "    print(f\"  {i:2d}. {col}\")\n",
    "\n",
    "# Handle missing values\n",
    "X = X.fillna(X.mean(numeric_only=True))\n",
    "X = X.fillna(0)\n",
    "\n",
    "print(f\"\\n✅ Missing values handled. Ready for modeling!\")"
   ]
  },
  {
   "cell_type": "code",
   "execution_count": 7,
   "id": "220ac47c",
   "metadata": {},
   "outputs": [
    {
     "name": "stdout",
     "output_type": "stream",
     "text": [
      "🔀 Train-Test Split (80/20):\n",
      "  Training set: 3200 samples\n",
      "  Test set: 800 samples\n",
      "  Total: 4000 samples\n"
     ]
    }
   ],
   "source": [
    "# Train-test split\n",
    "X_train, X_test, y_train, y_test = train_test_split(X, y, test_size=0.2, random_state=42)\n",
    "\n",
    "print(f\"🔀 Train-Test Split (80/20):\")\n",
    "print(f\"  Training set: {X_train.shape[0]} samples\")\n",
    "print(f\"  Test set: {X_test.shape[0]} samples\")\n",
    "print(f\"  Total: {X_train.shape[0] + X_test.shape[0]} samples\")"
   ]
  },
  {
   "cell_type": "markdown",
   "id": "310b363b",
   "metadata": {},
   "source": [
    "## Model Training - LightGBM vs RandomForest"
   ]
  },
  {
   "cell_type": "code",
   "execution_count": 8,
   "id": "5793dd88",
   "metadata": {},
   "outputs": [
    {
     "name": "stdout",
     "output_type": "stream",
     "text": [
      "⚠️  LightGBM not available, using RandomForest instead...\n"
     ]
    },
    {
     "ename": "ValueError",
     "evalue": "could not convert string to float: 'Semi-Furnished'",
     "output_type": "error",
     "traceback": [
      "\u001b[1;31m---------------------------------------------------------------------------\u001b[0m",
      "\u001b[1;31mModuleNotFoundError\u001b[0m                       Traceback (most recent call last)",
      "Cell \u001b[1;32mIn[8], line 5\u001b[0m\n\u001b[0;32m      4\u001b[0m \u001b[38;5;28;01mtry\u001b[39;00m:\n\u001b[1;32m----> 5\u001b[0m     \u001b[38;5;28;01mimport\u001b[39;00m \u001b[38;5;21;01mlightgbm\u001b[39;00m \u001b[38;5;28;01mas\u001b[39;00m \u001b[38;5;21;01mlgb\u001b[39;00m\n\u001b[0;32m      7\u001b[0m     \u001b[38;5;66;03m# Train LightGBM model\u001b[39;00m\n",
      "\u001b[1;31mModuleNotFoundError\u001b[0m: No module named 'lightgbm'",
      "\nDuring handling of the above exception, another exception occurred:\n",
      "\u001b[1;31mValueError\u001b[0m                                Traceback (most recent call last)",
      "Cell \u001b[1;32mIn[8], line 36\u001b[0m\n\u001b[0;32m     28\u001b[0m \u001b[38;5;66;03m# Train RandomForest model\u001b[39;00m\n\u001b[0;32m     29\u001b[0m rf_model \u001b[38;5;241m=\u001b[39m RandomForestRegressor(\n\u001b[0;32m     30\u001b[0m     n_estimators\u001b[38;5;241m=\u001b[39m\u001b[38;5;241m100\u001b[39m,\n\u001b[0;32m     31\u001b[0m     max_depth\u001b[38;5;241m=\u001b[39m\u001b[38;5;241m15\u001b[39m,\n\u001b[0;32m     32\u001b[0m     random_state\u001b[38;5;241m=\u001b[39m\u001b[38;5;241m42\u001b[39m,\n\u001b[0;32m     33\u001b[0m     n_jobs\u001b[38;5;241m=\u001b[39m\u001b[38;5;241m-\u001b[39m\u001b[38;5;241m1\u001b[39m\n\u001b[0;32m     34\u001b[0m )\n\u001b[1;32m---> 36\u001b[0m \u001b[43mrf_model\u001b[49m\u001b[38;5;241;43m.\u001b[39;49m\u001b[43mfit\u001b[49m\u001b[43m(\u001b[49m\u001b[43mX_train\u001b[49m\u001b[43m,\u001b[49m\u001b[43m \u001b[49m\u001b[43my_train\u001b[49m\u001b[43m)\u001b[49m\n\u001b[0;32m     37\u001b[0m y_pred_train \u001b[38;5;241m=\u001b[39m rf_model\u001b[38;5;241m.\u001b[39mpredict(X_train)\n\u001b[0;32m     38\u001b[0m y_pred_test \u001b[38;5;241m=\u001b[39m rf_model\u001b[38;5;241m.\u001b[39mpredict(X_test)\n",
      "File \u001b[1;32mc:\\Users\\ASUS\\AppData\\Local\\Programs\\Python\\Python311\\Lib\\site-packages\\sklearn\\base.py:1365\u001b[0m, in \u001b[0;36m_fit_context.<locals>.decorator.<locals>.wrapper\u001b[1;34m(estimator, *args, **kwargs)\u001b[0m\n\u001b[0;32m   1358\u001b[0m     estimator\u001b[38;5;241m.\u001b[39m_validate_params()\n\u001b[0;32m   1360\u001b[0m \u001b[38;5;28;01mwith\u001b[39;00m config_context(\n\u001b[0;32m   1361\u001b[0m     skip_parameter_validation\u001b[38;5;241m=\u001b[39m(\n\u001b[0;32m   1362\u001b[0m         prefer_skip_nested_validation \u001b[38;5;129;01mor\u001b[39;00m global_skip_validation\n\u001b[0;32m   1363\u001b[0m     )\n\u001b[0;32m   1364\u001b[0m ):\n\u001b[1;32m-> 1365\u001b[0m     \u001b[38;5;28;01mreturn\u001b[39;00m \u001b[43mfit_method\u001b[49m\u001b[43m(\u001b[49m\u001b[43mestimator\u001b[49m\u001b[43m,\u001b[49m\u001b[43m \u001b[49m\u001b[38;5;241;43m*\u001b[39;49m\u001b[43margs\u001b[49m\u001b[43m,\u001b[49m\u001b[43m \u001b[49m\u001b[38;5;241;43m*\u001b[39;49m\u001b[38;5;241;43m*\u001b[39;49m\u001b[43mkwargs\u001b[49m\u001b[43m)\u001b[49m\n",
      "File \u001b[1;32mc:\\Users\\ASUS\\AppData\\Local\\Programs\\Python\\Python311\\Lib\\site-packages\\sklearn\\ensemble\\_forest.py:359\u001b[0m, in \u001b[0;36mBaseForest.fit\u001b[1;34m(self, X, y, sample_weight)\u001b[0m\n\u001b[0;32m    356\u001b[0m \u001b[38;5;28;01mif\u001b[39;00m issparse(y):\n\u001b[0;32m    357\u001b[0m     \u001b[38;5;28;01mraise\u001b[39;00m \u001b[38;5;167;01mValueError\u001b[39;00m(\u001b[38;5;124m\"\u001b[39m\u001b[38;5;124msparse multilabel-indicator for y is not supported.\u001b[39m\u001b[38;5;124m\"\u001b[39m)\n\u001b[1;32m--> 359\u001b[0m X, y \u001b[38;5;241m=\u001b[39m \u001b[43mvalidate_data\u001b[49m\u001b[43m(\u001b[49m\n\u001b[0;32m    360\u001b[0m \u001b[43m    \u001b[49m\u001b[38;5;28;43mself\u001b[39;49m\u001b[43m,\u001b[49m\n\u001b[0;32m    361\u001b[0m \u001b[43m    \u001b[49m\u001b[43mX\u001b[49m\u001b[43m,\u001b[49m\n\u001b[0;32m    362\u001b[0m \u001b[43m    \u001b[49m\u001b[43my\u001b[49m\u001b[43m,\u001b[49m\n\u001b[0;32m    363\u001b[0m \u001b[43m    \u001b[49m\u001b[43mmulti_output\u001b[49m\u001b[38;5;241;43m=\u001b[39;49m\u001b[38;5;28;43;01mTrue\u001b[39;49;00m\u001b[43m,\u001b[49m\n\u001b[0;32m    364\u001b[0m \u001b[43m    \u001b[49m\u001b[43maccept_sparse\u001b[49m\u001b[38;5;241;43m=\u001b[39;49m\u001b[38;5;124;43m\"\u001b[39;49m\u001b[38;5;124;43mcsc\u001b[39;49m\u001b[38;5;124;43m\"\u001b[39;49m\u001b[43m,\u001b[49m\n\u001b[0;32m    365\u001b[0m \u001b[43m    \u001b[49m\u001b[43mdtype\u001b[49m\u001b[38;5;241;43m=\u001b[39;49m\u001b[43mDTYPE\u001b[49m\u001b[43m,\u001b[49m\n\u001b[0;32m    366\u001b[0m \u001b[43m    \u001b[49m\u001b[43mensure_all_finite\u001b[49m\u001b[38;5;241;43m=\u001b[39;49m\u001b[38;5;28;43;01mFalse\u001b[39;49;00m\u001b[43m,\u001b[49m\n\u001b[0;32m    367\u001b[0m \u001b[43m\u001b[49m\u001b[43m)\u001b[49m\n\u001b[0;32m    368\u001b[0m \u001b[38;5;66;03m# _compute_missing_values_in_feature_mask checks if X has missing values and\u001b[39;00m\n\u001b[0;32m    369\u001b[0m \u001b[38;5;66;03m# will raise an error if the underlying tree base estimator can't handle missing\u001b[39;00m\n\u001b[0;32m    370\u001b[0m \u001b[38;5;66;03m# values. Only the criterion is required to determine if the tree supports\u001b[39;00m\n\u001b[0;32m    371\u001b[0m \u001b[38;5;66;03m# missing values.\u001b[39;00m\n\u001b[0;32m    372\u001b[0m estimator \u001b[38;5;241m=\u001b[39m \u001b[38;5;28mtype\u001b[39m(\u001b[38;5;28mself\u001b[39m\u001b[38;5;241m.\u001b[39mestimator)(criterion\u001b[38;5;241m=\u001b[39m\u001b[38;5;28mself\u001b[39m\u001b[38;5;241m.\u001b[39mcriterion)\n",
      "File \u001b[1;32mc:\\Users\\ASUS\\AppData\\Local\\Programs\\Python\\Python311\\Lib\\site-packages\\sklearn\\utils\\validation.py:2971\u001b[0m, in \u001b[0;36mvalidate_data\u001b[1;34m(_estimator, X, y, reset, validate_separately, skip_check_array, **check_params)\u001b[0m\n\u001b[0;32m   2969\u001b[0m         y \u001b[38;5;241m=\u001b[39m check_array(y, input_name\u001b[38;5;241m=\u001b[39m\u001b[38;5;124m\"\u001b[39m\u001b[38;5;124my\u001b[39m\u001b[38;5;124m\"\u001b[39m, \u001b[38;5;241m*\u001b[39m\u001b[38;5;241m*\u001b[39mcheck_y_params)\n\u001b[0;32m   2970\u001b[0m     \u001b[38;5;28;01melse\u001b[39;00m:\n\u001b[1;32m-> 2971\u001b[0m         X, y \u001b[38;5;241m=\u001b[39m \u001b[43mcheck_X_y\u001b[49m\u001b[43m(\u001b[49m\u001b[43mX\u001b[49m\u001b[43m,\u001b[49m\u001b[43m \u001b[49m\u001b[43my\u001b[49m\u001b[43m,\u001b[49m\u001b[43m \u001b[49m\u001b[38;5;241;43m*\u001b[39;49m\u001b[38;5;241;43m*\u001b[39;49m\u001b[43mcheck_params\u001b[49m\u001b[43m)\u001b[49m\n\u001b[0;32m   2972\u001b[0m     out \u001b[38;5;241m=\u001b[39m X, y\n\u001b[0;32m   2974\u001b[0m \u001b[38;5;28;01mif\u001b[39;00m \u001b[38;5;129;01mnot\u001b[39;00m no_val_X \u001b[38;5;129;01mand\u001b[39;00m check_params\u001b[38;5;241m.\u001b[39mget(\u001b[38;5;124m\"\u001b[39m\u001b[38;5;124mensure_2d\u001b[39m\u001b[38;5;124m\"\u001b[39m, \u001b[38;5;28;01mTrue\u001b[39;00m):\n",
      "File \u001b[1;32mc:\\Users\\ASUS\\AppData\\Local\\Programs\\Python\\Python311\\Lib\\site-packages\\sklearn\\utils\\validation.py:1368\u001b[0m, in \u001b[0;36mcheck_X_y\u001b[1;34m(X, y, accept_sparse, accept_large_sparse, dtype, order, copy, force_writeable, force_all_finite, ensure_all_finite, ensure_2d, allow_nd, multi_output, ensure_min_samples, ensure_min_features, y_numeric, estimator)\u001b[0m\n\u001b[0;32m   1362\u001b[0m     \u001b[38;5;28;01mraise\u001b[39;00m \u001b[38;5;167;01mValueError\u001b[39;00m(\n\u001b[0;32m   1363\u001b[0m         \u001b[38;5;124mf\u001b[39m\u001b[38;5;124m\"\u001b[39m\u001b[38;5;132;01m{\u001b[39;00mestimator_name\u001b[38;5;132;01m}\u001b[39;00m\u001b[38;5;124m requires y to be passed, but the target y is None\u001b[39m\u001b[38;5;124m\"\u001b[39m\n\u001b[0;32m   1364\u001b[0m     )\n\u001b[0;32m   1366\u001b[0m ensure_all_finite \u001b[38;5;241m=\u001b[39m _deprecate_force_all_finite(force_all_finite, ensure_all_finite)\n\u001b[1;32m-> 1368\u001b[0m X \u001b[38;5;241m=\u001b[39m \u001b[43mcheck_array\u001b[49m\u001b[43m(\u001b[49m\n\u001b[0;32m   1369\u001b[0m \u001b[43m    \u001b[49m\u001b[43mX\u001b[49m\u001b[43m,\u001b[49m\n\u001b[0;32m   1370\u001b[0m \u001b[43m    \u001b[49m\u001b[43maccept_sparse\u001b[49m\u001b[38;5;241;43m=\u001b[39;49m\u001b[43maccept_sparse\u001b[49m\u001b[43m,\u001b[49m\n\u001b[0;32m   1371\u001b[0m \u001b[43m    \u001b[49m\u001b[43maccept_large_sparse\u001b[49m\u001b[38;5;241;43m=\u001b[39;49m\u001b[43maccept_large_sparse\u001b[49m\u001b[43m,\u001b[49m\n\u001b[0;32m   1372\u001b[0m \u001b[43m    \u001b[49m\u001b[43mdtype\u001b[49m\u001b[38;5;241;43m=\u001b[39;49m\u001b[43mdtype\u001b[49m\u001b[43m,\u001b[49m\n\u001b[0;32m   1373\u001b[0m \u001b[43m    \u001b[49m\u001b[43morder\u001b[49m\u001b[38;5;241;43m=\u001b[39;49m\u001b[43morder\u001b[49m\u001b[43m,\u001b[49m\n\u001b[0;32m   1374\u001b[0m \u001b[43m    \u001b[49m\u001b[43mcopy\u001b[49m\u001b[38;5;241;43m=\u001b[39;49m\u001b[43mcopy\u001b[49m\u001b[43m,\u001b[49m\n\u001b[0;32m   1375\u001b[0m \u001b[43m    \u001b[49m\u001b[43mforce_writeable\u001b[49m\u001b[38;5;241;43m=\u001b[39;49m\u001b[43mforce_writeable\u001b[49m\u001b[43m,\u001b[49m\n\u001b[0;32m   1376\u001b[0m \u001b[43m    \u001b[49m\u001b[43mensure_all_finite\u001b[49m\u001b[38;5;241;43m=\u001b[39;49m\u001b[43mensure_all_finite\u001b[49m\u001b[43m,\u001b[49m\n\u001b[0;32m   1377\u001b[0m \u001b[43m    \u001b[49m\u001b[43mensure_2d\u001b[49m\u001b[38;5;241;43m=\u001b[39;49m\u001b[43mensure_2d\u001b[49m\u001b[43m,\u001b[49m\n\u001b[0;32m   1378\u001b[0m \u001b[43m    \u001b[49m\u001b[43mallow_nd\u001b[49m\u001b[38;5;241;43m=\u001b[39;49m\u001b[43mallow_nd\u001b[49m\u001b[43m,\u001b[49m\n\u001b[0;32m   1379\u001b[0m \u001b[43m    \u001b[49m\u001b[43mensure_min_samples\u001b[49m\u001b[38;5;241;43m=\u001b[39;49m\u001b[43mensure_min_samples\u001b[49m\u001b[43m,\u001b[49m\n\u001b[0;32m   1380\u001b[0m \u001b[43m    \u001b[49m\u001b[43mensure_min_features\u001b[49m\u001b[38;5;241;43m=\u001b[39;49m\u001b[43mensure_min_features\u001b[49m\u001b[43m,\u001b[49m\n\u001b[0;32m   1381\u001b[0m \u001b[43m    \u001b[49m\u001b[43mestimator\u001b[49m\u001b[38;5;241;43m=\u001b[39;49m\u001b[43mestimator\u001b[49m\u001b[43m,\u001b[49m\n\u001b[0;32m   1382\u001b[0m \u001b[43m    \u001b[49m\u001b[43minput_name\u001b[49m\u001b[38;5;241;43m=\u001b[39;49m\u001b[38;5;124;43m\"\u001b[39;49m\u001b[38;5;124;43mX\u001b[39;49m\u001b[38;5;124;43m\"\u001b[39;49m\u001b[43m,\u001b[49m\n\u001b[0;32m   1383\u001b[0m \u001b[43m\u001b[49m\u001b[43m)\u001b[49m\n\u001b[0;32m   1385\u001b[0m y \u001b[38;5;241m=\u001b[39m _check_y(y, multi_output\u001b[38;5;241m=\u001b[39mmulti_output, y_numeric\u001b[38;5;241m=\u001b[39my_numeric, estimator\u001b[38;5;241m=\u001b[39mestimator)\n\u001b[0;32m   1387\u001b[0m check_consistent_length(X, y)\n",
      "File \u001b[1;32mc:\\Users\\ASUS\\AppData\\Local\\Programs\\Python\\Python311\\Lib\\site-packages\\sklearn\\utils\\validation.py:971\u001b[0m, in \u001b[0;36mcheck_array\u001b[1;34m(array, accept_sparse, accept_large_sparse, dtype, order, copy, force_writeable, force_all_finite, ensure_all_finite, ensure_non_negative, ensure_2d, allow_nd, ensure_min_samples, ensure_min_features, estimator, input_name)\u001b[0m\n\u001b[0;32m    966\u001b[0m \u001b[38;5;28;01mif\u001b[39;00m pandas_requires_conversion:\n\u001b[0;32m    967\u001b[0m     \u001b[38;5;66;03m# pandas dataframe requires conversion earlier to handle extension dtypes with\u001b[39;00m\n\u001b[0;32m    968\u001b[0m     \u001b[38;5;66;03m# nans\u001b[39;00m\n\u001b[0;32m    969\u001b[0m     \u001b[38;5;66;03m# Use the original dtype for conversion if dtype is None\u001b[39;00m\n\u001b[0;32m    970\u001b[0m     new_dtype \u001b[38;5;241m=\u001b[39m dtype_orig \u001b[38;5;28;01mif\u001b[39;00m dtype \u001b[38;5;129;01mis\u001b[39;00m \u001b[38;5;28;01mNone\u001b[39;00m \u001b[38;5;28;01melse\u001b[39;00m dtype\n\u001b[1;32m--> 971\u001b[0m     array \u001b[38;5;241m=\u001b[39m \u001b[43marray\u001b[49m\u001b[38;5;241;43m.\u001b[39;49m\u001b[43mastype\u001b[49m\u001b[43m(\u001b[49m\u001b[43mnew_dtype\u001b[49m\u001b[43m)\u001b[49m\n\u001b[0;32m    972\u001b[0m     \u001b[38;5;66;03m# Since we converted here, we do not need to convert again later\u001b[39;00m\n\u001b[0;32m    973\u001b[0m     dtype \u001b[38;5;241m=\u001b[39m \u001b[38;5;28;01mNone\u001b[39;00m\n",
      "File \u001b[1;32mc:\\Users\\ASUS\\AppData\\Local\\Programs\\Python\\Python311\\Lib\\site-packages\\pandas\\core\\generic.py:6534\u001b[0m, in \u001b[0;36mNDFrame.astype\u001b[1;34m(self, dtype, copy, errors)\u001b[0m\n\u001b[0;32m   6530\u001b[0m     results \u001b[38;5;241m=\u001b[39m [ser\u001b[38;5;241m.\u001b[39mastype(dtype, copy\u001b[38;5;241m=\u001b[39mcopy) \u001b[38;5;28;01mfor\u001b[39;00m _, ser \u001b[38;5;129;01min\u001b[39;00m \u001b[38;5;28mself\u001b[39m\u001b[38;5;241m.\u001b[39mitems()]\n\u001b[0;32m   6532\u001b[0m \u001b[38;5;28;01melse\u001b[39;00m:\n\u001b[0;32m   6533\u001b[0m     \u001b[38;5;66;03m# else, only a single dtype is given\u001b[39;00m\n\u001b[1;32m-> 6534\u001b[0m     new_data \u001b[38;5;241m=\u001b[39m \u001b[38;5;28;43mself\u001b[39;49m\u001b[38;5;241;43m.\u001b[39;49m\u001b[43m_mgr\u001b[49m\u001b[38;5;241;43m.\u001b[39;49m\u001b[43mastype\u001b[49m\u001b[43m(\u001b[49m\u001b[43mdtype\u001b[49m\u001b[38;5;241;43m=\u001b[39;49m\u001b[43mdtype\u001b[49m\u001b[43m,\u001b[49m\u001b[43m \u001b[49m\u001b[43mcopy\u001b[49m\u001b[38;5;241;43m=\u001b[39;49m\u001b[43mcopy\u001b[49m\u001b[43m,\u001b[49m\u001b[43m \u001b[49m\u001b[43merrors\u001b[49m\u001b[38;5;241;43m=\u001b[39;49m\u001b[43merrors\u001b[49m\u001b[43m)\u001b[49m\n\u001b[0;32m   6535\u001b[0m     res \u001b[38;5;241m=\u001b[39m \u001b[38;5;28mself\u001b[39m\u001b[38;5;241m.\u001b[39m_constructor_from_mgr(new_data, axes\u001b[38;5;241m=\u001b[39mnew_data\u001b[38;5;241m.\u001b[39maxes)\n\u001b[0;32m   6536\u001b[0m     \u001b[38;5;28;01mreturn\u001b[39;00m res\u001b[38;5;241m.\u001b[39m__finalize__(\u001b[38;5;28mself\u001b[39m, method\u001b[38;5;241m=\u001b[39m\u001b[38;5;124m\"\u001b[39m\u001b[38;5;124mastype\u001b[39m\u001b[38;5;124m\"\u001b[39m)\n",
      "File \u001b[1;32mc:\\Users\\ASUS\\AppData\\Local\\Programs\\Python\\Python311\\Lib\\site-packages\\pandas\\core\\internals\\managers.py:414\u001b[0m, in \u001b[0;36mBaseBlockManager.astype\u001b[1;34m(self, dtype, copy, errors)\u001b[0m\n\u001b[0;32m    411\u001b[0m \u001b[38;5;28;01melif\u001b[39;00m using_copy_on_write():\n\u001b[0;32m    412\u001b[0m     copy \u001b[38;5;241m=\u001b[39m \u001b[38;5;28;01mFalse\u001b[39;00m\n\u001b[1;32m--> 414\u001b[0m \u001b[38;5;28;01mreturn\u001b[39;00m \u001b[38;5;28;43mself\u001b[39;49m\u001b[38;5;241;43m.\u001b[39;49m\u001b[43mapply\u001b[49m\u001b[43m(\u001b[49m\n\u001b[0;32m    415\u001b[0m \u001b[43m    \u001b[49m\u001b[38;5;124;43m\"\u001b[39;49m\u001b[38;5;124;43mastype\u001b[39;49m\u001b[38;5;124;43m\"\u001b[39;49m\u001b[43m,\u001b[49m\n\u001b[0;32m    416\u001b[0m \u001b[43m    \u001b[49m\u001b[43mdtype\u001b[49m\u001b[38;5;241;43m=\u001b[39;49m\u001b[43mdtype\u001b[49m\u001b[43m,\u001b[49m\n\u001b[0;32m    417\u001b[0m \u001b[43m    \u001b[49m\u001b[43mcopy\u001b[49m\u001b[38;5;241;43m=\u001b[39;49m\u001b[43mcopy\u001b[49m\u001b[43m,\u001b[49m\n\u001b[0;32m    418\u001b[0m \u001b[43m    \u001b[49m\u001b[43merrors\u001b[49m\u001b[38;5;241;43m=\u001b[39;49m\u001b[43merrors\u001b[49m\u001b[43m,\u001b[49m\n\u001b[0;32m    419\u001b[0m \u001b[43m    \u001b[49m\u001b[43musing_cow\u001b[49m\u001b[38;5;241;43m=\u001b[39;49m\u001b[43musing_copy_on_write\u001b[49m\u001b[43m(\u001b[49m\u001b[43m)\u001b[49m\u001b[43m,\u001b[49m\n\u001b[0;32m    420\u001b[0m \u001b[43m\u001b[49m\u001b[43m)\u001b[49m\n",
      "File \u001b[1;32mc:\\Users\\ASUS\\AppData\\Local\\Programs\\Python\\Python311\\Lib\\site-packages\\pandas\\core\\internals\\managers.py:354\u001b[0m, in \u001b[0;36mBaseBlockManager.apply\u001b[1;34m(self, f, align_keys, **kwargs)\u001b[0m\n\u001b[0;32m    352\u001b[0m         applied \u001b[38;5;241m=\u001b[39m b\u001b[38;5;241m.\u001b[39mapply(f, \u001b[38;5;241m*\u001b[39m\u001b[38;5;241m*\u001b[39mkwargs)\n\u001b[0;32m    353\u001b[0m     \u001b[38;5;28;01melse\u001b[39;00m:\n\u001b[1;32m--> 354\u001b[0m         applied \u001b[38;5;241m=\u001b[39m \u001b[38;5;28;43mgetattr\u001b[39;49m\u001b[43m(\u001b[49m\u001b[43mb\u001b[49m\u001b[43m,\u001b[49m\u001b[43m \u001b[49m\u001b[43mf\u001b[49m\u001b[43m)\u001b[49m\u001b[43m(\u001b[49m\u001b[38;5;241;43m*\u001b[39;49m\u001b[38;5;241;43m*\u001b[39;49m\u001b[43mkwargs\u001b[49m\u001b[43m)\u001b[49m\n\u001b[0;32m    355\u001b[0m     result_blocks \u001b[38;5;241m=\u001b[39m extend_blocks(applied, result_blocks)\n\u001b[0;32m    357\u001b[0m out \u001b[38;5;241m=\u001b[39m \u001b[38;5;28mtype\u001b[39m(\u001b[38;5;28mself\u001b[39m)\u001b[38;5;241m.\u001b[39mfrom_blocks(result_blocks, \u001b[38;5;28mself\u001b[39m\u001b[38;5;241m.\u001b[39maxes)\n",
      "File \u001b[1;32mc:\\Users\\ASUS\\AppData\\Local\\Programs\\Python\\Python311\\Lib\\site-packages\\pandas\\core\\internals\\blocks.py:616\u001b[0m, in \u001b[0;36mBlock.astype\u001b[1;34m(self, dtype, copy, errors, using_cow)\u001b[0m\n\u001b[0;32m    596\u001b[0m \u001b[38;5;250m\u001b[39m\u001b[38;5;124;03m\"\"\"\u001b[39;00m\n\u001b[0;32m    597\u001b[0m \u001b[38;5;124;03mCoerce to the new dtype.\u001b[39;00m\n\u001b[0;32m    598\u001b[0m \n\u001b[1;32m   (...)\u001b[0m\n\u001b[0;32m    612\u001b[0m \u001b[38;5;124;03mBlock\u001b[39;00m\n\u001b[0;32m    613\u001b[0m \u001b[38;5;124;03m\"\"\"\u001b[39;00m\n\u001b[0;32m    614\u001b[0m values \u001b[38;5;241m=\u001b[39m \u001b[38;5;28mself\u001b[39m\u001b[38;5;241m.\u001b[39mvalues\n\u001b[1;32m--> 616\u001b[0m new_values \u001b[38;5;241m=\u001b[39m \u001b[43mastype_array_safe\u001b[49m\u001b[43m(\u001b[49m\u001b[43mvalues\u001b[49m\u001b[43m,\u001b[49m\u001b[43m \u001b[49m\u001b[43mdtype\u001b[49m\u001b[43m,\u001b[49m\u001b[43m \u001b[49m\u001b[43mcopy\u001b[49m\u001b[38;5;241;43m=\u001b[39;49m\u001b[43mcopy\u001b[49m\u001b[43m,\u001b[49m\u001b[43m \u001b[49m\u001b[43merrors\u001b[49m\u001b[38;5;241;43m=\u001b[39;49m\u001b[43merrors\u001b[49m\u001b[43m)\u001b[49m\n\u001b[0;32m    618\u001b[0m new_values \u001b[38;5;241m=\u001b[39m maybe_coerce_values(new_values)\n\u001b[0;32m    620\u001b[0m refs \u001b[38;5;241m=\u001b[39m \u001b[38;5;28;01mNone\u001b[39;00m\n",
      "File \u001b[1;32mc:\\Users\\ASUS\\AppData\\Local\\Programs\\Python\\Python311\\Lib\\site-packages\\pandas\\core\\dtypes\\astype.py:238\u001b[0m, in \u001b[0;36mastype_array_safe\u001b[1;34m(values, dtype, copy, errors)\u001b[0m\n\u001b[0;32m    235\u001b[0m     dtype \u001b[38;5;241m=\u001b[39m dtype\u001b[38;5;241m.\u001b[39mnumpy_dtype\n\u001b[0;32m    237\u001b[0m \u001b[38;5;28;01mtry\u001b[39;00m:\n\u001b[1;32m--> 238\u001b[0m     new_values \u001b[38;5;241m=\u001b[39m \u001b[43mastype_array\u001b[49m\u001b[43m(\u001b[49m\u001b[43mvalues\u001b[49m\u001b[43m,\u001b[49m\u001b[43m \u001b[49m\u001b[43mdtype\u001b[49m\u001b[43m,\u001b[49m\u001b[43m \u001b[49m\u001b[43mcopy\u001b[49m\u001b[38;5;241;43m=\u001b[39;49m\u001b[43mcopy\u001b[49m\u001b[43m)\u001b[49m\n\u001b[0;32m    239\u001b[0m \u001b[38;5;28;01mexcept\u001b[39;00m (\u001b[38;5;167;01mValueError\u001b[39;00m, \u001b[38;5;167;01mTypeError\u001b[39;00m):\n\u001b[0;32m    240\u001b[0m     \u001b[38;5;66;03m# e.g. _astype_nansafe can fail on object-dtype of strings\u001b[39;00m\n\u001b[0;32m    241\u001b[0m     \u001b[38;5;66;03m#  trying to convert to float\u001b[39;00m\n\u001b[0;32m    242\u001b[0m     \u001b[38;5;28;01mif\u001b[39;00m errors \u001b[38;5;241m==\u001b[39m \u001b[38;5;124m\"\u001b[39m\u001b[38;5;124mignore\u001b[39m\u001b[38;5;124m\"\u001b[39m:\n",
      "File \u001b[1;32mc:\\Users\\ASUS\\AppData\\Local\\Programs\\Python\\Python311\\Lib\\site-packages\\pandas\\core\\dtypes\\astype.py:183\u001b[0m, in \u001b[0;36mastype_array\u001b[1;34m(values, dtype, copy)\u001b[0m\n\u001b[0;32m    180\u001b[0m     values \u001b[38;5;241m=\u001b[39m values\u001b[38;5;241m.\u001b[39mastype(dtype, copy\u001b[38;5;241m=\u001b[39mcopy)\n\u001b[0;32m    182\u001b[0m \u001b[38;5;28;01melse\u001b[39;00m:\n\u001b[1;32m--> 183\u001b[0m     values \u001b[38;5;241m=\u001b[39m \u001b[43m_astype_nansafe\u001b[49m\u001b[43m(\u001b[49m\u001b[43mvalues\u001b[49m\u001b[43m,\u001b[49m\u001b[43m \u001b[49m\u001b[43mdtype\u001b[49m\u001b[43m,\u001b[49m\u001b[43m \u001b[49m\u001b[43mcopy\u001b[49m\u001b[38;5;241;43m=\u001b[39;49m\u001b[43mcopy\u001b[49m\u001b[43m)\u001b[49m\n\u001b[0;32m    185\u001b[0m \u001b[38;5;66;03m# in pandas we don't store numpy str dtypes, so convert to object\u001b[39;00m\n\u001b[0;32m    186\u001b[0m \u001b[38;5;28;01mif\u001b[39;00m \u001b[38;5;28misinstance\u001b[39m(dtype, np\u001b[38;5;241m.\u001b[39mdtype) \u001b[38;5;129;01mand\u001b[39;00m \u001b[38;5;28missubclass\u001b[39m(values\u001b[38;5;241m.\u001b[39mdtype\u001b[38;5;241m.\u001b[39mtype, \u001b[38;5;28mstr\u001b[39m):\n",
      "File \u001b[1;32mc:\\Users\\ASUS\\AppData\\Local\\Programs\\Python\\Python311\\Lib\\site-packages\\pandas\\core\\dtypes\\astype.py:134\u001b[0m, in \u001b[0;36m_astype_nansafe\u001b[1;34m(arr, dtype, copy, skipna)\u001b[0m\n\u001b[0;32m    130\u001b[0m     \u001b[38;5;28;01mraise\u001b[39;00m \u001b[38;5;167;01mValueError\u001b[39;00m(msg)\n\u001b[0;32m    132\u001b[0m \u001b[38;5;28;01mif\u001b[39;00m copy \u001b[38;5;129;01mor\u001b[39;00m arr\u001b[38;5;241m.\u001b[39mdtype \u001b[38;5;241m==\u001b[39m \u001b[38;5;28mobject\u001b[39m \u001b[38;5;129;01mor\u001b[39;00m dtype \u001b[38;5;241m==\u001b[39m \u001b[38;5;28mobject\u001b[39m:\n\u001b[0;32m    133\u001b[0m     \u001b[38;5;66;03m# Explicit copy, or required since NumPy can't view from / to object.\u001b[39;00m\n\u001b[1;32m--> 134\u001b[0m     \u001b[38;5;28;01mreturn\u001b[39;00m \u001b[43marr\u001b[49m\u001b[38;5;241;43m.\u001b[39;49m\u001b[43mastype\u001b[49m\u001b[43m(\u001b[49m\u001b[43mdtype\u001b[49m\u001b[43m,\u001b[49m\u001b[43m \u001b[49m\u001b[43mcopy\u001b[49m\u001b[38;5;241;43m=\u001b[39;49m\u001b[38;5;28;43;01mTrue\u001b[39;49;00m\u001b[43m)\u001b[49m\n\u001b[0;32m    136\u001b[0m \u001b[38;5;28;01mreturn\u001b[39;00m arr\u001b[38;5;241m.\u001b[39mastype(dtype, copy\u001b[38;5;241m=\u001b[39mcopy)\n",
      "\u001b[1;31mValueError\u001b[0m: could not convert string to float: 'Semi-Furnished'"
     ]
    }
   ],
   "source": [
    "# Try LightGBM first, fall back to RandomForest\n",
    "model_type = None\n",
    "\n",
    "try:\n",
    "    import lightgbm as lgb\n",
    "    \n",
    "    # Train LightGBM model\n",
    "    lgb_model = lgb.LGBMRegressor(\n",
    "        n_estimators=100,\n",
    "        learning_rate=0.1,\n",
    "        max_depth=10,\n",
    "        num_leaves=30,\n",
    "        random_state=42,\n",
    "        verbose=-1\n",
    "    )\n",
    "    \n",
    "    lgb_model.fit(X_train, y_train)\n",
    "    y_pred_train = lgb_model.predict(X_train)\n",
    "    y_pred_test = lgb_model.predict(X_test)\n",
    "    \n",
    "    model_type = 'LightGBM'\n",
    "    model = lgb_model\n",
    "    print(\"✅ LightGBM model trained successfully!\")\n",
    "    \n",
    "except ImportError:\n",
    "    print(\"⚠️  LightGBM not available, using RandomForest instead...\")\n",
    "    \n",
    "    # Train RandomForest model\n",
    "    rf_model = RandomForestRegressor(\n",
    "        n_estimators=100,\n",
    "        max_depth=15,\n",
    "        random_state=42,\n",
    "        n_jobs=-1\n",
    "    )\n",
    "    \n",
    "    rf_model.fit(X_train, y_train)\n",
    "    y_pred_train = rf_model.predict(X_train)\n",
    "    y_pred_test = rf_model.predict(X_test)\n",
    "    \n",
    "    model_type = 'RandomForest'\n",
    "    model = rf_model\n",
    "    print(\"✅ RandomForest model trained successfully!\")\n",
    "\n",
    "print(f\"🎯 Model Type: {model_type}\")"
   ]
  },
  {
   "cell_type": "markdown",
   "id": "747a08bf",
   "metadata": {},
   "source": [
    "## Model Evaluation & Performance Metrics"
   ]
  },
  {
   "cell_type": "code",
   "execution_count": null,
   "id": "c7e77c85",
   "metadata": {},
   "outputs": [],
   "source": [
    "# Calculate metrics\n",
    "train_r2 = r2_score(y_train, y_pred_train)\n",
    "test_r2 = r2_score(y_test, y_pred_test)\n",
    "train_rmse = np.sqrt(mean_squared_error(y_train, y_pred_train))\n",
    "test_rmse = np.sqrt(mean_squared_error(y_test, y_pred_test))\n",
    "train_mae = mean_absolute_error(y_train, y_pred_train)\n",
    "test_mae = mean_absolute_error(y_test, y_pred_test)\n",
    "\n",
    "print(f\"📊 Model Performance Metrics ({model_type}):\")\n",
    "print(f\"\\n🏆 R² Score (Coefficient of Determination):\")\n",
    "print(f\"   Training: {train_r2:.4f}\")\n",
    "print(f\"   Testing:  {test_r2:.4f}\")\n",
    "print(f\"\\n📉 RMSE (Root Mean Squared Error) in ₹:\")\n",
    "print(f\"   Training: ₹{train_rmse:,.2f}\")\n",
    "print(f\"   Testing:  ₹{test_rmse:,.2f}\")\n",
    "print(f\"\\n📏 MAE (Mean Absolute Error) in ₹:\")\n",
    "print(f\"   Training: ₹{train_mae:,.2f}\")\n",
    "print(f\"   Testing:  ₹{test_mae:,.2f}\")\n",
    "\n",
    "# Evaluation interpretation\n",
    "print(f\"\\n✨ Model Interpretation:\")\n",
    "print(f\"   • R² = {test_r2:.4f} means the model explains {test_r2*100:.2f}% of price variation\")\n",
    "print(f\"   • On average, predictions are off by ₹{test_mae:,.0f} (MAE)\")\n",
    "print(f\"   • Typical error magnitude is ₹{test_rmse:,.0f} (RMSE)\")"
   ]
  },
  {
   "cell_type": "code",
   "execution_count": null,
   "id": "e1fa0172",
   "metadata": {},
   "outputs": [],
   "source": [
    "# Visualize predictions vs actual\n",
    "fig, axes = plt.subplots(1, 2, figsize=(14, 5))\n",
    "\n",
    "# Scatter plot: Predicted vs Actual\n",
    "axes[0].scatter(y_test, y_pred_test, alpha=0.5, s=30, color='navy', edgecolors='k', linewidth=0.5)\n",
    "axes[0].plot([y_test.min(), y_test.max()], [y_test.min(), y_test.max()], 'r--', lw=2, label='Perfect Prediction')\n",
    "axes[0].set_xlabel('Actual Rent (₹)', fontsize=11)\n",
    "axes[0].set_ylabel('Predicted Rent (₹)', fontsize=11)\n",
    "axes[0].set_title(f'Predictions vs Actual (R² = {test_r2:.4f})', fontsize=12, fontweight='bold')\n",
    "axes[0].legend()\n",
    "axes[0].grid(alpha=0.3)\n",
    "\n",
    "# Residuals plot\n",
    "residuals = y_test - y_pred_test\n",
    "axes[1].scatter(y_pred_test, residuals, alpha=0.5, s=30, color='darkred', edgecolors='k', linewidth=0.5)\n",
    "axes[1].axhline(y=0, color='r', linestyle='--', lw=2)\n",
    "axes[1].set_xlabel('Predicted Rent (₹)', fontsize=11)\n",
    "axes[1].set_ylabel('Residuals (₹)', fontsize=11)\n",
    "axes[1].set_title(f'Residual Plot (RMSE = ₹{test_rmse:,.0f})', fontsize=12, fontweight='bold')\n",
    "axes[1].grid(alpha=0.3)\n",
    "\n",
    "plt.tight_layout()\n",
    "plt.savefig('../results/03_predictions_vs_actual.png', dpi=100, bbox_inches='tight')\n",
    "plt.show()"
   ]
  },
  {
   "cell_type": "markdown",
   "id": "6fa01b7c",
   "metadata": {},
   "source": [
    "## Feature Importance Analysis"
   ]
  },
  {
   "cell_type": "code",
   "execution_count": null,
   "id": "5f94f417",
   "metadata": {},
   "outputs": [],
   "source": [
    "# Extract feature importance\n",
    "if model_type == 'LightGBM':\n",
    "    feature_importance = pd.DataFrame({\n",
    "        'feature': X.columns,\n",
    "        'importance': model.feature_importances_\n",
    "    }).sort_values('importance', ascending=False)\n",
    "else:  # RandomForest\n",
    "    feature_importance = pd.DataFrame({\n",
    "        'feature': X.columns,\n",
    "        'importance': model.feature_importances_\n",
    "    }).sort_values('importance', ascending=False)\n",
    "\n",
    "print(\"🎯 Top 10 Most Important Features:\")\n",
    "print(feature_importance.head(10).to_string(index=False))\n",
    "\n",
    "# Visualize feature importance\n",
    "fig, ax = plt.subplots(figsize=(10, 6))\n",
    "top_n = 10\n",
    "top_features = feature_importance.head(top_n)\n",
    "colors = plt.cm.viridis(np.linspace(0, 1, len(top_features)))\n",
    "\n",
    "ax.barh(range(len(top_features)), top_features['importance'], color=colors, edgecolor='black', linewidth=1)\n",
    "ax.set_yticks(range(len(top_features)))\n",
    "ax.set_yticklabels(top_features['feature'])\n",
    "ax.set_xlabel('Importance Score', fontsize=11)\n",
    "ax.set_title(f'Top {top_n} Most Important Features ({model_type})', fontsize=12, fontweight='bold')\n",
    "ax.invert_yaxis()\n",
    "ax.grid(alpha=0.3, axis='x')\n",
    "\n",
    "# Add value labels\n",
    "for i, v in enumerate(top_features['importance']):\n",
    "    ax.text(v + 0.01, i, f'{v:.4f}', va='center', fontsize=9)\n",
    "\n",
    "plt.tight_layout()\n",
    "plt.savefig('../results/04_feature_importance.png', dpi=100, bbox_inches='tight')\n",
    "plt.show()\n",
    "\n",
    "print(f\"\\n✅ Feature importance visualization saved!\")"
   ]
  },
  {
   "cell_type": "markdown",
   "id": "ba9f6eb3",
   "metadata": {},
   "source": [
    "## Business Insights from Model"
   ]
  },
  {
   "cell_type": "code",
   "execution_count": null,
   "id": "5acf6624",
   "metadata": {},
   "outputs": [],
   "source": [
    "# Extract key insights\n",
    "top_3_features = feature_importance.head(3)\n",
    "\n",
    "print(\"💡 Key Business Insights:\\n\")\n",
    "print(\"1️⃣  PRIMARY DRIVER:\")\n",
    "print(f\"   The most important feature is '{top_3_features.iloc[0]['feature']}' with\")\n",
    "print(f\"   importance score of {top_3_features.iloc[0]['importance']:.4f}\")\n",
    "print(f\"   → This explains the largest portion of rent variation\\n\")\n",
    "\n",
    "print(\"2️⃣  TOP 3 PREDICTORS:\")\n",
    "for idx, (_, row) in enumerate(top_3_features.iterrows(), 1):\n",
    "    print(f\"   {idx}. {row['feature']:<25} (importance: {row['importance']:.4f})\")\n",
    "\n",
    "print(f\"\\n3️⃣  MODEL RELIABILITY:\")\n",
    "print(f\"   • Explains {test_r2*100:.2f}% of rental price variation\")\n",
    "print(f\"   • Average prediction error: ₹{test_mae:,.0f}\")\n",
    "print(f\"   • Suitable for: Property valuation, market analysis\\n\")\n",
    "\n",
    "print(\"4️⃣  RECOMMENDATIONS:\")\n",
    "print(f\"   • Focus on features with high importance for decision-making\")\n",
    "print(f\"   • Use model for portfolio analysis and market benchmarking\")\n",
    "print(f\"   • Monitor model performance quarterly with new data\")\n",
    "\n",
    "# Calculate percentage contribution\n",
    "print(f\"\\n5️⃣  FEATURE CONTRIBUTION BREAKDOWN:\")\n",
    "total_importance = feature_importance['importance'].sum()\n",
    "feature_importance['percentage'] = (feature_importance['importance'] / total_importance) * 100\n",
    "print(feature_importance.head(5)[['feature', 'percentage']].to_string(index=False))"
   ]
  },
  {
   "cell_type": "markdown",
   "id": "b3db8faf",
   "metadata": {},
   "source": [
    "## Model Summary & Conclusion"
   ]
  },
  {
   "cell_type": "code",
   "execution_count": null,
   "id": "6f6075cc",
   "metadata": {},
   "outputs": [],
   "source": [
    "print(\"=\"*70)\n",
    "print(\"📋 MODEL SUMMARY REPORT - RENTAL PRICE PREDICTION\")\n",
    "print(\"=\"*70)\n",
    "print(f\"\\n📊 DATASET:\")\n",
    "print(f\"   • Total Records: {len(df):,}\")\n",
    "print(f\"   • Training Samples: {len(X_train):,}\")\n",
    "print(f\"   • Test Samples: {len(X_test):,}\")\n",
    "print(f\"   • Features Used: {X.shape[1]}\")\n",
    "\n",
    "print(f\"\\n🤖 MODEL CONFIGURATION ({model_type}):\")\n",
    "if model_type == 'LightGBM':\n",
    "    print(f\"   • Estimators: 100\")\n",
    "    print(f\"   • Learning Rate: 0.1\")\n",
    "    print(f\"   • Max Depth: 10\")\n",
    "    print(f\"   • Num Leaves: 30\")\n",
    "else:\n",
    "    print(f\"   • Estimators: 100\")\n",
    "    print(f\"   • Max Depth: 15\")\n",
    "\n",
    "print(f\"\\n🎯 MODEL PERFORMANCE:\")\n",
    "print(f\"   • Train R² Score: {train_r2:.4f}\")\n",
    "print(f\"   • Test R² Score:  {test_r2:.4f} ✓ (Primary Metric)\")\n",
    "print(f\"   • Train RMSE:     ₹{train_rmse:,.2f}\")\n",
    "print(f\"   • Test RMSE:      ₹{test_rmse:,.2f} ✓ (Primary Metric)\")\n",
    "print(f\"   • Train MAE:      ₹{train_mae:,.2f}\")\n",
    "print(f\"   • Test MAE:       ₹{test_mae:,.2f} ✓ (Primary Metric)\")\n",
    "\n",
    "print(f\"\\n✨ INTERPRETATION:\")\n",
    "print(f\"   • The model explains {test_r2*100:.1f}% of rent variation\")\n",
    "print(f\"   • Prediction accuracy: ±₹{test_mae:,.0f} on average\")\n",
    "print(f\"   • Model is {'RELIABLE ✅' if test_r2 > 0.85 else 'GOOD ✓' if test_r2 > 0.75 else 'MODERATE ⚠️'}\")\n",
    "\n",
    "print(f\"\\n🏆 TOP 3 DRIVERS:\")\n",
    "for idx, (_, row) in enumerate(feature_importance.head(3).iterrows(), 1):\n",
    "    print(f\"   {idx}. {row['feature']:<30} ({row['percentage']:.1f}%)\")\n",
    "\n",
    "print(f\"\\n📁 OUTPUT FILES GENERATED:\")\n",
    "print(f\"   ✅ ../results/01_target_distribution.png\")\n",
    "print(f\"   ✅ ../results/02_feature_correlation.png\")\n",
    "print(f\"   ✅ ../results/03_predictions_vs_actual.png\")\n",
    "print(f\"   ✅ ../results/04_feature_importance.png\")\n",
    "\n",
    "print(f\"\\n\" + \"=\"*70)\n",
    "print(f\"✅ Analysis Complete! Model is ready for deployment.\")\n",
    "print(\"=\"*70)"
   ]
  },
  {
   "cell_type": "markdown",
   "id": "5d2cc8f1",
   "metadata": {},
   "source": [
    "# Model Notebook\n",
    "\n",
    "This notebook walks through loading the processed data, training a LightGBM model, and visualizing results. It mirrors `src/model.py`."
   ]
  }
 ],
 "metadata": {
  "kernelspec": {
   "display_name": "Python 3",
   "language": "python",
   "name": "python3"
  },
  "language_info": {
   "codemirror_mode": {
    "name": "ipython",
    "version": 3
   },
   "file_extension": ".py",
   "mimetype": "text/x-python",
   "name": "python",
   "nbconvert_exporter": "python",
   "pygments_lexer": "ipython3",
   "version": "3.11.5"
  }
 },
 "nbformat": 4,
 "nbformat_minor": 5
}
